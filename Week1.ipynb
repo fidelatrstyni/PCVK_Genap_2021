{
  "nbformat": 4,
  "nbformat_minor": 0,
  "metadata": {
    "colab": {
      "name": "Week1.ipynb",
      "provenance": [],
      "include_colab_link": true
    },
    "kernelspec": {
      "name": "python3",
      "display_name": "Python 3"
    }
  },
  "cells": [
    {
      "cell_type": "markdown",
      "metadata": {
        "id": "view-in-github",
        "colab_type": "text"
      },
      "source": [
        "<a href=\"https://colab.research.google.com/github/fidelatrstyni/PCVK_Genap_2021/blob/main/Week1.ipynb\" target=\"_parent\"><img src=\"https://colab.research.google.com/assets/colab-badge.svg\" alt=\"Open In Colab\"/></a>"
      ]
    },
    {
      "cell_type": "code",
      "metadata": {
        "id": "u4JLzTKrvTDc"
      },
      "source": [
        "import numpy as np\r\n",
        "import pandas as pd\r\n",
        "import cv2 as cv\r\n",
        "from google.colab.patches import cv2_imshow # for image display\r\n",
        "from skimage import io\r\n",
        "from skimage import transform\r\n",
        "from PIL import Image\r\n",
        "import matplotlib.pylab as plt"
      ],
      "execution_count": null,
      "outputs": []
    },
    {
      "cell_type": "markdown",
      "metadata": {
        "id": "TuBBYte29ZXv"
      },
      "source": [
        "2. - Numpy: array manipulasi, digunakan untuk aljabar linier, transformasi fourier, dan kemampuan bilangan acak.\r\n",
        "  - Pandas: perpustakaan untuk manipulasi data dan analisis data.\r\n",
        "  - CV2: perpustakaan untuk tugas visi komputer.\r\n",
        "  - Skimage: library yang mendukung aplikasi pengolah gambar pada python.\r\n",
        "  Matplotlib: perpustakaan yang menghasilkan gambar dan menyediakan toolkit antarmuka pengguna grafis.\r\n",
        "3. Digunakan untuk mengubah ukuran gambar menjadi setengah ukuran.\r\n",
        "4. maksud dari kode [255,255,255] adalah pada image_3 memberikan sebuah titik berwarna putih yang berada di setengah gambar tersebut.\r\n",
        "5. Pixel yaitu elemen terkecil dari suatu gambar digital. Dan Resolusi gambar adalah jumlah pixel yang tersusun dalam sebuah gambar digital.Hubungan pixel dan resolusi adalah semakin tinggi jumlah pixel atau gari maka semakin tinggi juga resolusinya."
      ]
    }
  ]
}